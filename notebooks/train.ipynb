{
 "cells": [
  {
   "cell_type": "code",
   "execution_count": 1,
   "metadata": {},
   "outputs": [],
   "source": [
    "import pandas as pd\n",
    "from catboost import CatBoostClassifier, Pool\n",
    "from sklearn.metrics import roc_auc_score"
   ]
  },
  {
   "cell_type": "code",
   "execution_count": 2,
   "metadata": {},
   "outputs": [],
   "source": [
    "train = pd.read_parquet('../data/train.parquet')\n",
    "test = pd.read_parquet('../data/test.parquet')"
   ]
  },
  {
   "cell_type": "code",
   "execution_count": 3,
   "metadata": {},
   "outputs": [],
   "source": [
    "X_train = train.drop(['target'], axis=1)\n",
    "y_train = train['target']\n",
    "\n",
    "X_test = test.drop(['target'], axis=1)\n",
    "y_test = test['target']"
   ]
  },
  {
   "cell_type": "code",
   "execution_count": 4,
   "metadata": {},
   "outputs": [],
   "source": [
    "train_pool = Pool(X_train, y_train)\n",
    "test_pool = Pool(X_test, y_test)"
   ]
  },
  {
   "cell_type": "markdown",
   "metadata": {},
   "source": [
    "### Without class weights"
   ]
  },
  {
   "cell_type": "code",
   "execution_count": 7,
   "metadata": {},
   "outputs": [],
   "source": [
    "gbm = CatBoostClassifier(random_seed=42, iterations=30, early_stopping_rounds=10, thread_count=-1, custom_metric=['F1', 'Precision', 'Recall', 'AUC', 'Accuracy', 'Logloss'])"
   ]
  },
  {
   "cell_type": "code",
   "execution_count": 8,
   "metadata": {},
   "outputs": [
    {
     "data": {
      "application/vnd.jupyter.widget-view+json": {
       "model_id": "834cfd97f2944bc995ae27a9df49d225",
       "version_major": 2,
       "version_minor": 0
      },
      "text/plain": [
       "MetricVisualizer(layout=Layout(align_self='stretch', height='500px'))"
      ]
     },
     "metadata": {},
     "output_type": "display_data"
    },
    {
     "name": "stdout",
     "output_type": "stream",
     "text": [
      "Learning rate set to 0.5\n",
      "0:\tlearn: 0.0124651\ttest: 0.0116394\tbest: 0.0116394 (0)\ttotal: 4.47s\tremaining: 2m 9s\n",
      "1:\tlearn: 0.0079809\ttest: 0.0068756\tbest: 0.0068756 (1)\ttotal: 8.24s\tremaining: 1m 55s\n",
      "2:\tlearn: 0.0078043\ttest: 0.0067787\tbest: 0.0067787 (2)\ttotal: 11.9s\tremaining: 1m 46s\n",
      "3:\tlearn: 0.0063653\ttest: 0.0055160\tbest: 0.0055160 (3)\ttotal: 15.7s\tremaining: 1m 41s\n",
      "4:\tlearn: 0.0059201\ttest: 0.0051519\tbest: 0.0051519 (4)\ttotal: 19.5s\tremaining: 1m 37s\n",
      "5:\tlearn: 0.0057397\ttest: 0.0050048\tbest: 0.0050048 (5)\ttotal: 23.3s\tremaining: 1m 33s\n",
      "6:\tlearn: 0.0056858\ttest: 0.0049631\tbest: 0.0049631 (6)\ttotal: 27.1s\tremaining: 1m 28s\n",
      "7:\tlearn: 0.0056052\ttest: 0.0048915\tbest: 0.0048915 (7)\ttotal: 31.3s\tremaining: 1m 25s\n",
      "8:\tlearn: 0.0055876\ttest: 0.0048799\tbest: 0.0048799 (8)\ttotal: 35.3s\tremaining: 1m 22s\n",
      "9:\tlearn: 0.0055802\ttest: 0.0048715\tbest: 0.0048715 (9)\ttotal: 39.4s\tremaining: 1m 18s\n",
      "10:\tlearn: 0.0055600\ttest: 0.0048578\tbest: 0.0048578 (10)\ttotal: 43.6s\tremaining: 1m 15s\n",
      "11:\tlearn: 0.0055588\ttest: 0.0048575\tbest: 0.0048575 (11)\ttotal: 47.6s\tremaining: 1m 11s\n",
      "12:\tlearn: 0.0055579\ttest: 0.0048588\tbest: 0.0048575 (11)\ttotal: 52s\tremaining: 1m 7s\n",
      "13:\tlearn: 0.0055569\ttest: 0.0048577\tbest: 0.0048575 (11)\ttotal: 55.8s\tremaining: 1m 3s\n",
      "14:\tlearn: 0.0055559\ttest: 0.0048557\tbest: 0.0048557 (14)\ttotal: 59.8s\tremaining: 59.8s\n",
      "15:\tlearn: 0.0055552\ttest: 0.0048555\tbest: 0.0048555 (15)\ttotal: 1m 4s\tremaining: 56.1s\n",
      "16:\tlearn: 0.0055510\ttest: 0.0048531\tbest: 0.0048531 (16)\ttotal: 1m 8s\tremaining: 52.4s\n",
      "17:\tlearn: 0.0055501\ttest: 0.0048526\tbest: 0.0048526 (17)\ttotal: 1m 12s\tremaining: 48.5s\n",
      "18:\tlearn: 0.0055496\ttest: 0.0048528\tbest: 0.0048526 (17)\ttotal: 1m 16s\tremaining: 44.3s\n",
      "19:\tlearn: 0.0055490\ttest: 0.0048522\tbest: 0.0048522 (19)\ttotal: 1m 20s\tremaining: 40.4s\n",
      "20:\tlearn: 0.0055487\ttest: 0.0048576\tbest: 0.0048522 (19)\ttotal: 1m 24s\tremaining: 36.4s\n",
      "21:\tlearn: 0.0055477\ttest: 0.0048576\tbest: 0.0048522 (19)\ttotal: 1m 29s\tremaining: 32.4s\n",
      "22:\tlearn: 0.0055394\ttest: 0.0048526\tbest: 0.0048522 (19)\ttotal: 1m 33s\tremaining: 28.4s\n",
      "23:\tlearn: 0.0055387\ttest: 0.0048525\tbest: 0.0048522 (19)\ttotal: 1m 37s\tremaining: 24.4s\n",
      "24:\tlearn: 0.0055385\ttest: 0.0048522\tbest: 0.0048522 (19)\ttotal: 1m 42s\tremaining: 20.4s\n",
      "25:\tlearn: 0.0055381\ttest: 0.0048526\tbest: 0.0048522 (19)\ttotal: 1m 46s\tremaining: 16.4s\n",
      "26:\tlearn: 0.0055377\ttest: 0.0048527\tbest: 0.0048522 (19)\ttotal: 1m 50s\tremaining: 12.3s\n",
      "27:\tlearn: 0.0055371\ttest: 0.0048524\tbest: 0.0048522 (19)\ttotal: 1m 54s\tremaining: 8.2s\n",
      "28:\tlearn: 0.0055366\ttest: 0.0048524\tbest: 0.0048522 (19)\ttotal: 1m 58s\tremaining: 4.1s\n",
      "29:\tlearn: 0.0055362\ttest: 0.0048524\tbest: 0.0048522 (19)\ttotal: 2m 3s\tremaining: 0us\n",
      "\n",
      "bestTest = 0.00485218133\n",
      "bestIteration = 19\n",
      "\n",
      "Shrink model to first 20 iterations.\n"
     ]
    },
    {
     "data": {
      "text/plain": [
       "<catboost.core.CatBoostClassifier at 0x7feb67961990>"
      ]
     },
     "execution_count": 8,
     "metadata": {},
     "output_type": "execute_result"
    }
   ],
   "source": [
    "gbm.fit(train_pool, eval_set=test_pool, verbose=True, plot=True)"
   ]
  },
  {
   "cell_type": "code",
   "execution_count": 9,
   "metadata": {},
   "outputs": [],
   "source": [
    "gbm.save_model('../models/gbm.cbm', format=\"cbm\")"
   ]
  },
  {
   "cell_type": "code",
   "execution_count": 10,
   "metadata": {},
   "outputs": [],
   "source": [
    "y_pred = gbm.predict(X_train)"
   ]
  },
  {
   "cell_type": "code",
   "execution_count": 9,
   "metadata": {},
   "outputs": [],
   "source": [
    "def calculate_user_roc_auc(user_id, y, y_pred):\n",
    "\n",
    "    user_data = pd.DataFrame({'user_id': user_id})\n",
    "    user_data['y'] = y\n",
    "    user_data['y_pred'] = y_pred\n",
    "\n",
    "    # Инициализируем список для хранения ROC AUC по каждому пользователю\n",
    "    user_roc_aucs = []\n",
    "\n",
    "    # Группируем данные по user_id и вычисляем ROC AUC для каждого пользователя\n",
    "    for user_id, group in user_data.groupby('user_id'):\n",
    "        if len(group['y'].unique()) > 1:  # Проверяем, чтобы в выборке было больше одной метки\n",
    "            roc_auc = roc_auc_score(group['y'], group['y_pred'])\n",
    "            user_roc_aucs.append(roc_auc)\n",
    "\n",
    "    # Усредняем ROC AUC по пользователям\n",
    "    average_roc_auc = sum(user_roc_aucs) / len(user_roc_aucs)\n",
    "\n",
    "    return average_roc_auc"
   ]
  },
  {
   "cell_type": "code",
   "execution_count": 12,
   "metadata": {},
   "outputs": [],
   "source": [
    "user_roc_auc = calculate_user_roc_auc(user_id=X_train['user_id'], y=y_train, y_pred=y_pred)"
   ]
  },
  {
   "cell_type": "code",
   "execution_count": 13,
   "metadata": {},
   "outputs": [
    {
     "name": "stdout",
     "output_type": "stream",
     "text": [
      "0.5906197812163069\n"
     ]
    }
   ],
   "source": [
    "user_roc_auc"
   ]
  },
  {
   "cell_type": "markdown",
   "metadata": {},
   "source": [
    "### Balanced class weights"
   ]
  },
  {
   "cell_type": "code",
   "execution_count": 14,
   "metadata": {},
   "outputs": [],
   "source": [
    "gbm = CatBoostClassifier(random_seed=42, iterations=30, early_stopping_rounds=10, thread_count=-1, auto_class_weights='Balanced', custom_metric=['F1', 'Precision', 'Recall', 'AUC', 'Accuracy', 'Logloss'],)"
   ]
  },
  {
   "cell_type": "code",
   "execution_count": 15,
   "metadata": {},
   "outputs": [
    {
     "data": {
      "application/vnd.jupyter.widget-view+json": {
       "model_id": "7ddb7e35553e446ca4c1b50d9b6d7b44",
       "version_major": 2,
       "version_minor": 0
      },
      "text/plain": [
       "MetricVisualizer(layout=Layout(align_self='stretch', height='500px'))"
      ]
     },
     "metadata": {},
     "output_type": "display_data"
    },
    {
     "name": "stdout",
     "output_type": "stream",
     "text": [
      "Learning rate set to 0.5\n",
      "0:\tlearn: 0.0522307\ttest: 0.0518830\tbest: 0.0518830 (0)\ttotal: 5.52s\tremaining: 2m 39s\n",
      "1:\tlearn: 0.0238666\ttest: 0.0202187\tbest: 0.0202187 (1)\ttotal: 10.5s\tremaining: 2m 27s\n",
      "2:\tlearn: 0.0195673\ttest: 0.0158513\tbest: 0.0158513 (2)\ttotal: 15.4s\tremaining: 2m 18s\n",
      "3:\tlearn: 0.0184049\ttest: 0.0144976\tbest: 0.0144976 (3)\ttotal: 20.1s\tremaining: 2m 10s\n",
      "4:\tlearn: 0.0183071\ttest: 0.0144309\tbest: 0.0144309 (4)\ttotal: 25s\tremaining: 2m 4s\n",
      "5:\tlearn: 0.0182761\ttest: 0.0144144\tbest: 0.0144144 (5)\ttotal: 29.9s\tremaining: 1m 59s\n",
      "6:\tlearn: 0.0182760\ttest: 0.0144144\tbest: 0.0144144 (6)\ttotal: 34.4s\tremaining: 1m 52s\n",
      "7:\tlearn: 0.0182755\ttest: 0.0144141\tbest: 0.0144141 (7)\ttotal: 38.7s\tremaining: 1m 46s\n",
      "8:\tlearn: 0.0182753\ttest: 0.0144140\tbest: 0.0144140 (8)\ttotal: 43.3s\tremaining: 1m 40s\n",
      "9:\tlearn: 0.0182006\ttest: 0.0143247\tbest: 0.0143247 (9)\ttotal: 47.6s\tremaining: 1m 35s\n",
      "10:\tlearn: 0.0181967\ttest: 0.0143245\tbest: 0.0143245 (10)\ttotal: 52.1s\tremaining: 1m 29s\n",
      "11:\tlearn: 0.0181966\ttest: 0.0143244\tbest: 0.0143244 (11)\ttotal: 56.8s\tremaining: 1m 25s\n",
      "12:\tlearn: 0.0181965\ttest: 0.0143244\tbest: 0.0143244 (12)\ttotal: 1m 1s\tremaining: 1m 20s\n",
      "13:\tlearn: 0.0181609\ttest: 0.0142842\tbest: 0.0142842 (13)\ttotal: 1m 5s\tremaining: 1m 15s\n",
      "14:\tlearn: 0.0181608\ttest: 0.0142842\tbest: 0.0142842 (14)\ttotal: 1m 10s\tremaining: 1m 10s\n",
      "15:\tlearn: 0.0181607\ttest: 0.0142841\tbest: 0.0142841 (15)\ttotal: 1m 15s\tremaining: 1m 5s\n",
      "16:\tlearn: 0.0181607\ttest: 0.0142841\tbest: 0.0142841 (16)\ttotal: 1m 19s\tremaining: 1m\n",
      "17:\tlearn: 0.0181606\ttest: 0.0142840\tbest: 0.0142840 (17)\ttotal: 1m 24s\tremaining: 56.2s\n",
      "18:\tlearn: 0.0181606\ttest: 0.0142840\tbest: 0.0142840 (18)\ttotal: 1m 28s\tremaining: 51.4s\n",
      "19:\tlearn: 0.0181605\ttest: 0.0142840\tbest: 0.0142840 (19)\ttotal: 1m 33s\tremaining: 46.7s\n",
      "20:\tlearn: 0.0181605\ttest: 0.0142840\tbest: 0.0142840 (20)\ttotal: 1m 37s\tremaining: 42s\n",
      "21:\tlearn: 0.0181605\ttest: 0.0142839\tbest: 0.0142839 (21)\ttotal: 1m 42s\tremaining: 37.2s\n",
      "22:\tlearn: 0.0181603\ttest: 0.0142836\tbest: 0.0142836 (22)\ttotal: 1m 46s\tremaining: 32.5s\n",
      "23:\tlearn: 0.0181602\ttest: 0.0142835\tbest: 0.0142835 (23)\ttotal: 1m 51s\tremaining: 27.9s\n",
      "24:\tlearn: 0.0181602\ttest: 0.0142835\tbest: 0.0142835 (24)\ttotal: 1m 56s\tremaining: 23.3s\n",
      "25:\tlearn: 0.0181600\ttest: 0.0142835\tbest: 0.0142835 (25)\ttotal: 2m\tremaining: 18.6s\n",
      "26:\tlearn: 0.0181600\ttest: 0.0142835\tbest: 0.0142835 (25)\ttotal: 2m 5s\tremaining: 13.9s\n",
      "27:\tlearn: 0.0181599\ttest: 0.0142834\tbest: 0.0142834 (27)\ttotal: 2m 9s\tremaining: 9.28s\n",
      "28:\tlearn: 0.0181598\ttest: 0.0142834\tbest: 0.0142834 (28)\ttotal: 2m 14s\tremaining: 4.64s\n",
      "29:\tlearn: 0.0181598\ttest: 0.0142833\tbest: 0.0142833 (29)\ttotal: 2m 19s\tremaining: 0us\n",
      "\n",
      "bestTest = 0.01428332901\n",
      "bestIteration = 29\n",
      "\n"
     ]
    },
    {
     "data": {
      "text/plain": [
       "<catboost.core.CatBoostClassifier at 0x7feb67962f20>"
      ]
     },
     "execution_count": 15,
     "metadata": {},
     "output_type": "execute_result"
    }
   ],
   "source": [
    "gbm.fit(train_pool, eval_set=test_pool, verbose=True, plot=True)"
   ]
  },
  {
   "cell_type": "code",
   "execution_count": 16,
   "metadata": {},
   "outputs": [],
   "source": [
    "gbm.save_model('../models/gbm_balanced.cbm', format=\"cbm\")"
   ]
  },
  {
   "cell_type": "code",
   "execution_count": 17,
   "metadata": {},
   "outputs": [],
   "source": [
    "y_pred = gbm.predict(X_train)"
   ]
  },
  {
   "cell_type": "code",
   "execution_count": 18,
   "metadata": {},
   "outputs": [],
   "source": [
    "user_roc_auc_balanced = calculate_user_roc_auc(user_id=X_train['user_id'], y=y_train, y_pred=y_pred)"
   ]
  },
  {
   "cell_type": "code",
   "execution_count": 19,
   "metadata": {},
   "outputs": [
    {
     "name": "stdout",
     "output_type": "stream",
     "text": [
      "0.6851127782468215\n"
     ]
    }
   ],
   "source": [
    "user_roc_auc_balanced"
   ]
  },
  {
   "cell_type": "markdown",
   "metadata": {},
   "source": [
    "### SqrtBalanced class weights"
   ]
  },
  {
   "cell_type": "code",
   "execution_count": 5,
   "metadata": {},
   "outputs": [],
   "source": [
    "gbm = CatBoostClassifier(random_seed=42, iterations=30, early_stopping_rounds=10, thread_count=-1, auto_class_weights='SqrtBalanced', custom_metric=['F1', 'Precision', 'Recall', 'AUC', 'Accuracy', 'Logloss'],)"
   ]
  },
  {
   "cell_type": "code",
   "execution_count": 6,
   "metadata": {},
   "outputs": [
    {
     "data": {
      "application/vnd.jupyter.widget-view+json": {
       "model_id": "7a1626d43f734be4b4f7213d8e8328cf",
       "version_major": 2,
       "version_minor": 0
      },
      "text/plain": [
       "MetricVisualizer(layout=Layout(align_self='stretch', height='500px'))"
      ]
     },
     "metadata": {},
     "output_type": "display_data"
    },
    {
     "name": "stdout",
     "output_type": "stream",
     "text": [
      "Learning rate set to 0.5\n",
      "0:\tlearn: 0.0271151\ttest: 0.0255264\tbest: 0.0255264 (0)\ttotal: 5.28s\tremaining: 2m 33s\n",
      "1:\tlearn: 0.0188931\ttest: 0.0160698\tbest: 0.0160698 (1)\ttotal: 9.78s\tremaining: 2m 16s\n",
      "2:\tlearn: 0.0174347\ttest: 0.0146187\tbest: 0.0146187 (2)\ttotal: 14.4s\tremaining: 2m 10s\n",
      "3:\tlearn: 0.0173366\ttest: 0.0145644\tbest: 0.0145644 (3)\ttotal: 19.1s\tremaining: 2m 4s\n",
      "4:\tlearn: 0.0172890\ttest: 0.0145370\tbest: 0.0145370 (4)\ttotal: 23.6s\tremaining: 1m 57s\n",
      "5:\tlearn: 0.0172711\ttest: 0.0145337\tbest: 0.0145337 (5)\ttotal: 28s\tremaining: 1m 52s\n",
      "6:\tlearn: 0.0172652\ttest: 0.0145329\tbest: 0.0145329 (6)\ttotal: 32.6s\tremaining: 1m 47s\n",
      "7:\tlearn: 0.0172596\ttest: 0.0145353\tbest: 0.0145329 (6)\ttotal: 37.3s\tremaining: 1m 42s\n",
      "8:\tlearn: 0.0172516\ttest: 0.0145290\tbest: 0.0145290 (8)\ttotal: 42.1s\tremaining: 1m 38s\n",
      "9:\tlearn: 0.0172487\ttest: 0.0145270\tbest: 0.0145270 (9)\ttotal: 47.1s\tremaining: 1m 34s\n",
      "10:\tlearn: 0.0172363\ttest: 0.0145245\tbest: 0.0145245 (10)\ttotal: 51.8s\tremaining: 1m 29s\n",
      "11:\tlearn: 0.0172161\ttest: 0.0145020\tbest: 0.0145020 (11)\ttotal: 56.3s\tremaining: 1m 24s\n",
      "12:\tlearn: 0.0172130\ttest: 0.0145007\tbest: 0.0145007 (12)\ttotal: 1m 1s\tremaining: 1m 20s\n",
      "13:\tlearn: 0.0172093\ttest: 0.0144958\tbest: 0.0144958 (13)\ttotal: 1m 6s\tremaining: 1m 15s\n",
      "14:\tlearn: 0.0172070\ttest: 0.0144973\tbest: 0.0144958 (13)\ttotal: 1m 11s\tremaining: 1m 11s\n",
      "15:\tlearn: 0.0172053\ttest: 0.0144961\tbest: 0.0144958 (13)\ttotal: 1m 15s\tremaining: 1m 6s\n",
      "16:\tlearn: 0.0172000\ttest: 0.0144959\tbest: 0.0144958 (13)\ttotal: 1m 20s\tremaining: 1m 1s\n",
      "17:\tlearn: 0.0171977\ttest: 0.0144948\tbest: 0.0144948 (17)\ttotal: 1m 25s\tremaining: 57.3s\n",
      "18:\tlearn: 0.0171962\ttest: 0.0144947\tbest: 0.0144947 (18)\ttotal: 1m 30s\tremaining: 52.5s\n",
      "19:\tlearn: 0.0171947\ttest: 0.0145008\tbest: 0.0144947 (18)\ttotal: 1m 35s\tremaining: 47.9s\n",
      "20:\tlearn: 0.0171937\ttest: 0.0146104\tbest: 0.0144947 (18)\ttotal: 1m 40s\tremaining: 43.1s\n",
      "21:\tlearn: 0.0171924\ttest: 0.0146106\tbest: 0.0144947 (18)\ttotal: 1m 45s\tremaining: 38.4s\n",
      "22:\tlearn: 0.0171913\ttest: 0.0146176\tbest: 0.0144947 (18)\ttotal: 1m 50s\tremaining: 33.5s\n",
      "23:\tlearn: 0.0171897\ttest: 0.0146225\tbest: 0.0144947 (18)\ttotal: 1m 55s\tremaining: 28.8s\n",
      "24:\tlearn: 0.0171885\ttest: 0.0146218\tbest: 0.0144947 (18)\ttotal: 2m\tremaining: 24.1s\n",
      "25:\tlearn: 0.0171875\ttest: 0.0146214\tbest: 0.0144947 (18)\ttotal: 2m 5s\tremaining: 19.3s\n",
      "26:\tlearn: 0.0171861\ttest: 0.0146286\tbest: 0.0144947 (18)\ttotal: 2m 10s\tremaining: 14.5s\n",
      "27:\tlearn: 0.0171835\ttest: 0.0146271\tbest: 0.0144947 (18)\ttotal: 2m 15s\tremaining: 9.66s\n",
      "28:\tlearn: 0.0171801\ttest: 0.0146240\tbest: 0.0144947 (18)\ttotal: 2m 19s\tremaining: 4.83s\n",
      "Stopped by overfitting detector  (10 iterations wait)\n",
      "\n",
      "bestTest = 0.01449471212\n",
      "bestIteration = 18\n",
      "\n",
      "Shrink model to first 19 iterations.\n"
     ]
    },
    {
     "data": {
      "text/plain": [
       "<catboost.core.CatBoostClassifier at 0x702baf52ceb0>"
      ]
     },
     "execution_count": 6,
     "metadata": {},
     "output_type": "execute_result"
    }
   ],
   "source": [
    "gbm.fit(train_pool, eval_set=test_pool, verbose=True, plot=True)"
   ]
  },
  {
   "cell_type": "code",
   "execution_count": 7,
   "metadata": {},
   "outputs": [],
   "source": [
    "gbm.save_model('../models/gbm_sqrtbalanced.cbm', format=\"cbm\")"
   ]
  },
  {
   "cell_type": "code",
   "execution_count": 8,
   "metadata": {},
   "outputs": [],
   "source": [
    "y_pred = gbm.predict(X_train)"
   ]
  },
  {
   "cell_type": "code",
   "execution_count": 10,
   "metadata": {},
   "outputs": [],
   "source": [
    "user_roc_auc_sqrtbalanced = calculate_user_roc_auc(user_id=X_train['user_id'], y=y_train, y_pred=y_pred)"
   ]
  },
  {
   "cell_type": "code",
   "execution_count": 14,
   "metadata": {},
   "outputs": [
    {
     "name": "stdout",
     "output_type": "stream",
     "text": [
      "0.6845151901484958\n"
     ]
    }
   ],
   "source": [
    "user_roc_auc_sqrtbalanced"
   ]
  }
 ],
 "metadata": {
  "kernelspec": {
   "display_name": ".venv",
   "language": "python",
   "name": "python3"
  },
  "language_info": {
   "codemirror_mode": {
    "name": "ipython",
    "version": 3
   },
   "file_extension": ".py",
   "mimetype": "text/x-python",
   "name": "python",
   "nbconvert_exporter": "python",
   "pygments_lexer": "ipython3",
   "version": "3.10.15"
  }
 },
 "nbformat": 4,
 "nbformat_minor": 2
}
